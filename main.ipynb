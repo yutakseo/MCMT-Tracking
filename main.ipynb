{
 "cells": [
  {
   "cell_type": "code",
   "execution_count": null,
   "id": "64c8e87d",
   "metadata": {},
   "outputs": [],
   "source": [
    "from __Detection.detection_api import DetectionAPI\n",
    "from __Tracking.tracking_api import TrackerAPI\n",
    "from homo_graphy import PlanProjector\n",
    "import cv2"
   ]
  },
  {
   "cell_type": "code",
   "execution_count": 2,
   "id": "6846763a",
   "metadata": {},
   "outputs": [
    {
     "name": "stdout",
     "output_type": "stream",
     "text": [
      "Loads checkpoint by local backend from path: /workspace/PretrainedModel_by_JeonYT/vehicle/epoch_54.pth\n",
      "Loads checkpoint by local backend from path: /workspace/PretrainedModel_by_JeonYT/worker/epoch_100.pth\n"
     ]
    }
   ],
   "source": [
    "detector = DetectionAPI()"
   ]
  },
  {
   "cell_type": "code",
   "execution_count": 3,
   "id": "7d9a575f",
   "metadata": {},
   "outputs": [],
   "source": [
    "class Args:\n",
    "    track_thresh = 0.5\n",
    "    match_thresh = 0.5\n",
    "    track_buffer = 60\n",
    "    mot20 = False\n",
    "args = Args()"
   ]
  },
  {
   "cell_type": "code",
   "execution_count": 7,
   "id": "2f307b4c",
   "metadata": {},
   "outputs": [
    {
     "name": "stdout",
     "output_type": "stream",
     "text": [
      "결과 영상 저장 완료: /workspace/results/tracking_result2.mp4\n"
     ]
    }
   ],
   "source": [
    "tracker = TrackerAPI(args=args, detector=detector)\n",
    "tracklets = tracker.trackingVideo(\n",
    "    video_path=\"/workspace/mounted_datasets/Hyundai_dataset/aug1/c1/video.mp4\",\n",
    "    save_path=\"/workspace/results/tracking_result2.mp4\",\n",
    "    trail_len=100\n",
    ")"
   ]
  },
  {
   "cell_type": "code",
   "execution_count": null,
   "id": "0f3bb9b6",
   "metadata": {},
   "outputs": [],
   "source": [
    "# 1) 도면 + (선택) H 로드\n",
    "plan_path = \"/workspace/plan.png\"\n",
    "projector = PlanProjector(plan_path, trail_len=60)\n",
    "\n",
    "\n",
    "# 2) 대응점으로 H 추정 (리스트 안에 '튜플' 형태) --> 예시 나중에 바꿔야함\n",
    "image_pts = [(100, 200), (400, 210), (395, 600), (120, 590)]\n",
    "plan_pts  = [( 10,  20), ( 80,  20), ( 80, 120), ( 10, 120)]\n",
    "H, mask = projector.fit_homography(image_pts, plan_pts, ransac_thresh=3.0)\n",
    "\n",
    "# 4) 한 프레임 투영 & 저장\n",
    "projected, canvas = projector.projection(tracklets, mode=\"center\", draw=True)\n",
    "cv2.imwrite(\"/workspace/plan_proj_frame0.jpg\", canvas)\n",
    "\n",
    "# 5) 전체 프레임 미니맵 비디오 저장\n",
    "projector.save_video(tracklets, \"/workspace/plan_projection.mp4\", fps=30, mode=\"center\")\n"
   ]
  }
 ],
 "metadata": {
  "kernelspec": {
   "display_name": "mmyolo",
   "language": "python",
   "name": "python3"
  },
  "language_info": {
   "codemirror_mode": {
    "name": "ipython",
    "version": 3
   },
   "file_extension": ".py",
   "mimetype": "text/x-python",
   "name": "python",
   "nbconvert_exporter": "python",
   "pygments_lexer": "ipython3",
   "version": "3.8.20"
  }
 },
 "nbformat": 4,
 "nbformat_minor": 5
}
