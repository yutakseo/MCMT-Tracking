{
 "cells": [
  {
   "cell_type": "code",
   "execution_count": 1,
   "id": "64c8e87d",
   "metadata": {},
   "outputs": [],
   "source": [
    "from __Detection.detection_api import DetectionAPI\n",
    "from __Tracking.tracking_api import TrackerAPI"
   ]
  },
  {
   "cell_type": "code",
   "execution_count": 2,
   "id": "6846763a",
   "metadata": {},
   "outputs": [
    {
     "name": "stdout",
     "output_type": "stream",
     "text": [
      "Loads checkpoint by local backend from path: /workspace/PretrainedModel_by_JeonYT/vehicle/epoch_54.pth\n",
      "Loads checkpoint by local backend from path: /workspace/PretrainedModel_by_JeonYT/worker/epoch_100.pth\n"
     ]
    }
   ],
   "source": [
    "detector = DetectionAPI()"
   ]
  },
  {
   "cell_type": "code",
   "execution_count": 3,
   "id": "7d9a575f",
   "metadata": {},
   "outputs": [],
   "source": [
    "class Args:\n",
    "    track_thresh = 0.5\n",
    "    match_thresh = 0.5\n",
    "    track_buffer = 60\n",
    "    mot20 = False\n",
    "args = Args()"
   ]
  },
  {
   "cell_type": "code",
   "execution_count": 7,
   "id": "2f307b4c",
   "metadata": {},
   "outputs": [
    {
     "name": "stdout",
     "output_type": "stream",
     "text": [
      "결과 영상 저장 완료: /workspace/results/tracking_result2.mp4\n"
     ]
    }
   ],
   "source": [
    "tracker = TrackerAPI(args=args, detector=detector)\n",
    "tracklets = tracker.trackingVideo(\n",
    "    video_path=\"/workspace/mounted_datasets/Hyundai_dataset/aug1/c1/video.mp4\",\n",
    "    save_path=\"/workspace/results/tracking_result2.mp4\",\n",
    "    trail_len=100\n",
    ")"
   ]
  }
 ],
 "metadata": {
  "kernelspec": {
   "display_name": "mmyolo",
   "language": "python",
   "name": "python3"
  },
  "language_info": {
   "codemirror_mode": {
    "name": "ipython",
    "version": 3
   },
   "file_extension": ".py",
   "mimetype": "text/x-python",
   "name": "python",
   "nbconvert_exporter": "python",
   "pygments_lexer": "ipython3",
   "version": "3.8.20"
  }
 },
 "nbformat": 4,
 "nbformat_minor": 5
}
