{
 "cells": [
  {
   "cell_type": "code",
   "execution_count": 1,
   "id": "64c8e87d",
   "metadata": {},
   "outputs": [],
   "source": [
    "from __Detection.detection_api import DetectionAPI\n",
    "from __Tracking.tracking_api import TrackerAPI\n",
    "from homo_graphy import PlanProjector\n",
    "import cv2"
   ]
  },
  {
   "cell_type": "code",
   "execution_count": null,
   "id": "7d9a575f",
   "metadata": {},
   "outputs": [],
   "source": [
    "class Args:\n",
    "    track_thresh = 0.5\n",
    "    match_thresh = 0.5\n",
    "    track_buffer = 60\n",
    "    mot20 = False\n",
    "    cpu_workers = 10  \n",
    "    chunk_sec   = 10.0\n",
    "args = Args()"
   ]
  },
  {
   "cell_type": "code",
   "execution_count": 3,
   "id": "6846763a",
   "metadata": {},
   "outputs": [
    {
     "name": "stdout",
     "output_type": "stream",
     "text": [
      "Loads checkpoint by local backend from path: /workspace/PretrainedModel_by_JeonYT/vehicle/epoch_54.pth\n",
      "Loads checkpoint by local backend from path: /workspace/PretrainedModel_by_JeonYT/worker/epoch_100.pth\n"
     ]
    }
   ],
   "source": [
    "detector = DetectionAPI()\n",
    "tracker = TrackerAPI(args=args, detector=detector)"
   ]
  },
  {
   "cell_type": "code",
   "execution_count": 8,
   "id": "dc95921b",
   "metadata": {},
   "outputs": [],
   "source": [
    "# 1) 도면 + (선택) H 로드\n",
    "plan_path = \"/workspace/assets/25082_homograph_coordinate-plane.jpg\"\n",
    "plan_pts  = [\n",
    "            (3588, 412),    #point1\n",
    "            (3588, 1036),   #point2\n",
    "            (3588, 1657),   #point3\n",
    "            (2225, 412),    #point4\n",
    "            (2225, 1036),   #point5\n",
    "            (2225, 1657),   #point6\n",
    "            (861, 412),     #point7\n",
    "            (861, 1036),    #point8\n",
    "            (861, 1657),    #point9\n",
    "             ]"
   ]
  },
  {
   "cell_type": "markdown",
   "id": "fa3dca26",
   "metadata": {},
   "source": [
    "### Cam#1"
   ]
  },
  {
   "cell_type": "code",
   "execution_count": 5,
   "id": "2f307b4c",
   "metadata": {},
   "outputs": [
    {
     "name": "stderr",
     "output_type": "stream",
     "text": [
      "/opt/conda/envs/mmyolo/lib/python3.8/site-packages/torch/functional.py:504: UserWarning: torch.meshgrid: in an upcoming release, it will be required to pass the indexing argument. (Triggered internally at ../aten/src/ATen/native/TensorShape.cpp:3483.)\n",
      "  return _VF.meshgrid(tensors, **kwargs)  # type: ignore[attr-defined]\n"
     ]
    },
    {
     "name": "stdout",
     "output_type": "stream",
     "text": [
      "결과 영상 저장 완료: /workspace/results/tracking_result1.mp4\n"
     ]
    },
    {
     "ename": "error",
     "evalue": "OpenCV(4.12.0) :-1: error: (-5:Bad argument) in function 'imwrite'\n> Overload resolution failed:\n>  - img is not a numpy array, neither a scalar\n>  - Expected Ptr<cv::UMat> for argument 'img'\n",
     "output_type": "error",
     "traceback": [
      "\u001b[0;31m---------------------------------------------------------------------------\u001b[0m",
      "\u001b[0;31merror\u001b[0m                                     Traceback (most recent call last)",
      "\u001b[0;32m<ipython-input-5-c0ef1c034f99>\u001b[0m in \u001b[0;36m<cell line: 24>\u001b[0;34m()\u001b[0m\n\u001b[1;32m     22\u001b[0m \u001b[0;31m# 4-1) 예시, 한 프레임만 투영(10번 프레임) & 저장\u001b[0m\u001b[0;34m\u001b[0m\u001b[0;34m\u001b[0m\u001b[0;34m\u001b[0m\u001b[0m\n\u001b[1;32m     23\u001b[0m \u001b[0mprojected\u001b[0m\u001b[0;34m,\u001b[0m \u001b[0mcanvas\u001b[0m \u001b[0;34m=\u001b[0m \u001b[0mprojector1\u001b[0m\u001b[0;34m.\u001b[0m\u001b[0mprojection\u001b[0m\u001b[0;34m(\u001b[0m\u001b[0mcam1_tracklets\u001b[0m\u001b[0;34m[\u001b[0m\u001b[0;36m10\u001b[0m\u001b[0;34m]\u001b[0m\u001b[0;34m,\u001b[0m \u001b[0mmode\u001b[0m\u001b[0;34m=\u001b[0m\u001b[0;34m\"bottom-center\"\u001b[0m\u001b[0;34m,\u001b[0m \u001b[0mdraw\u001b[0m\u001b[0;34m=\u001b[0m\u001b[0;32mTrue\u001b[0m\u001b[0;34m)\u001b[0m\u001b[0;34m\u001b[0m\u001b[0;34m\u001b[0m\u001b[0m\n\u001b[0;32m---> 24\u001b[0;31m \u001b[0mcv2\u001b[0m\u001b[0;34m.\u001b[0m\u001b[0mimwrite\u001b[0m\u001b[0;34m(\u001b[0m\u001b[0;34m\"/workspace/results/plan_proj_frame1.jpg\"\u001b[0m\u001b[0;34m,\u001b[0m \u001b[0mcanvas\u001b[0m\u001b[0;34m)\u001b[0m\u001b[0;34m\u001b[0m\u001b[0;34m\u001b[0m\u001b[0m\n\u001b[0m\u001b[1;32m     25\u001b[0m \u001b[0;31m# 4-2) 전체 프레임 미니맵 비디오 저장\u001b[0m\u001b[0;34m\u001b[0m\u001b[0;34m\u001b[0m\u001b[0;34m\u001b[0m\u001b[0m\n\u001b[1;32m     26\u001b[0m \u001b[0mprojector1\u001b[0m\u001b[0;34m.\u001b[0m\u001b[0msave_video\u001b[0m\u001b[0;34m(\u001b[0m\u001b[0mcam1_tracklets\u001b[0m\u001b[0;34m,\u001b[0m \u001b[0;34m\"/workspace/results/plan_projection1.mp4\"\u001b[0m\u001b[0;34m,\u001b[0m \u001b[0mfps\u001b[0m\u001b[0;34m=\u001b[0m\u001b[0;36m30\u001b[0m\u001b[0;34m,\u001b[0m \u001b[0mmode\u001b[0m\u001b[0;34m=\u001b[0m\u001b[0;34m\"bottom-center\"\u001b[0m\u001b[0;34m)\u001b[0m\u001b[0;34m\u001b[0m\u001b[0;34m\u001b[0m\u001b[0m\n",
      "\u001b[0;31merror\u001b[0m: OpenCV(4.12.0) :-1: error: (-5:Bad argument) in function 'imwrite'\n> Overload resolution failed:\n>  - img is not a numpy array, neither a scalar\n>  - Expected Ptr<cv::UMat> for argument 'img'\n"
     ]
    }
   ],
   "source": [
    "cam1_tracklets = tracker.trackingVideo(\n",
    "    video_path=\"/workspace/datasets/homography_experiment/10-min_chunk/1030-1040/2025-08-27_10_30_00_cam#1_part_000.mp4\",\n",
    "    save_path=\"/workspace/results/tracking_result1.mp4\",\n",
    "    trail_len=100\n",
    ")"
   ]
  },
  {
   "cell_type": "code",
   "execution_count": null,
   "id": "a47cde30",
   "metadata": {},
   "outputs": [],
   "source": [
    "# 2) 대응점으로 H 추정 (리스트 안에 '튜플' 형태) --> 예시 나중에 바꿔야함\n",
    "projector1 = PlanProjector(plan_path, trail_len=60, trail_ttl=30, line_thickness=4, point_radius=6)\n",
    "cam1_pts = [\n",
    "    (1390, 521),  #point1\n",
    "    (1618, 552),  #point2\n",
    "    (1784, 578),  #point3\n",
    "    (1112, 564),  #point4\n",
    "    (1434,620),   #point5\n",
    "    (1709,668),   #point6\n",
    "    (481,651),    #point7\n",
    "    (852,809),    #point8\n",
    "    (1393,1007)   #point9\n",
    "    ]\n",
    "H, mask = projector1.fit_homography(cam1_pts, plan_pts, ransac_thresh=3.0)\n",
    "\n",
    "# 4-1) 예시, 한 프레임만 투영(10번 프레임) & 저장\n",
    "projected, canvas = projector1.projection(cam1_tracklets[10], mode=\"bottom-center\", draw=True)\n",
    "cv2.imwrite(\"/workspace/results/plan_proj_frame1.jpg\", canvas)\n",
    "# 4-2) 전체 프레임 미니맵 비디오 저장\n",
    "projector1.save_video(cam1_tracklets, \"/workspace/results/plan_projection1.mp4\", fps=30, mode=\"bottom-center\")"
   ]
  },
  {
   "cell_type": "markdown",
   "id": "3e523fc4",
   "metadata": {},
   "source": [
    "### Cam#2"
   ]
  },
  {
   "cell_type": "code",
   "execution_count": null,
   "id": "f149497a",
   "metadata": {},
   "outputs": [],
   "source": [
    "cam2_tracklets = tracker.trackingVideo(\n",
    "    video_path=\"/workspace/datasets/homography_experiment/10-min_chunk/1030-1040/2025-08-27_10_30_00_cam#2_part_000.mp4\",\n",
    "    save_path=\"/workspace/results/tracking_result2.mp4\",\n",
    "    trail_len=100\n",
    ")"
   ]
  },
  {
   "cell_type": "code",
   "execution_count": null,
   "id": "e098eb1d",
   "metadata": {},
   "outputs": [],
   "source": [
    "# 2) 대응점으로 H 추정 (리스트 안에 '튜플' 형태) --> 예시 나중에 바꿔야함\n",
    "projector2 = PlanProjector(plan_path, trail_len=60, trail_ttl=30, line_thickness=4, point_radius=6)\n",
    "cam3_pts = [\n",
    "    (1020,1027), #point1\n",
    "    (476,898),   #point2\n",
    "    (294,826),   #point3\n",
    "    (1348,790),  #point4\n",
    "    (1017,772),  #point5\n",
    "    (813,753),   #point6\n",
    "    (1437,716),  #point7\n",
    "    (1213,713),  #point8\n",
    "    (1058,707)   #point9\n",
    "    ]\n",
    "H, mask = projector2.fit_homography(cam3_pts, plan_pts, ransac_thresh=3.0)\n",
    "\n",
    "# 4-1) 예시, 한 프레임만 투영(10번 프레임) & 저장\n",
    "projected, canvas = projector2.projection(cam2_tracklets[10], mode=\"bottom-center\", draw=True)\n",
    "cv2.imwrite(\"/workspace/results/plan_proj_frame2.jpg\", canvas)\n",
    "# 4-2) 전체 프레임 미니맵 비디오 저장\n",
    "projector2.save_video(cam2_tracklets, \"/workspace/results/plan_projection2.mp4\", fps=30, mode=\"bottom-center\")"
   ]
  },
  {
   "cell_type": "markdown",
   "id": "b707bfb4",
   "metadata": {},
   "source": [
    " ### Cam#3"
   ]
  },
  {
   "cell_type": "code",
   "execution_count": null,
   "id": "0f3bb9b6",
   "metadata": {},
   "outputs": [],
   "source": [
    "cam3_tracklets = tracker.trackingVideo(\n",
    "    video_path=\"/workspace/datasets/homography_experiment/10-min_chunk/1030-1040/2025-08-27_10_30_00_cam#3_part_000.mp4\",\n",
    "    save_path=\"/workspace/results/tracking_result3.mp4\",\n",
    "    trail_len=100\n",
    ")"
   ]
  },
  {
   "cell_type": "code",
   "execution_count": null,
   "id": "ee0885fc",
   "metadata": {},
   "outputs": [],
   "source": [
    "# 2) 대응점으로 H 추정 (리스트 안에 '튜플' 형태) --> 예시 나중에 바꿔야함\n",
    "projector3 = PlanProjector(plan_path, trail_len=60, trail_ttl=30, line_thickness=4, point_radius=6)\n",
    "cam3_pts = [\n",
    "    (140,309),   #point1\n",
    "    (291,315),   #point2\n",
    "    (398,320),   #point3\n",
    "    (213,376),   #point4\n",
    "    (440,377),   #point5\n",
    "    (588,378),   #point6\n",
    "    (467,596),   #point7\n",
    "    (826,521),   #point8\n",
    "    (965,484)    #point9\n",
    "]\n",
    "H, mask = projector3.fit_homography(cam3_pts, plan_pts, ransac_thresh=3.0)\n",
    "\n",
    "# 4-1) 예시, 한 프레임만 투영(10번 프레임) & 저장\n",
    "projected, canvas = projector3.projection(cam3_tracklets[10], mode=\"bottom-center\", draw=True)\n",
    "cv2.imwrite(\"/workspace/results/plan_proj_frame3.jpg\", canvas)\n",
    "# 4-2) 전체 프레임 미니맵 비디오 저장\n",
    "projector3.save_video(cam3_tracklets, \"/workspace/results/plan_projection3.mp4\", fps=30, mode=\"bottom-center\")"
   ]
  }
 ],
 "metadata": {
  "kernelspec": {
   "display_name": "mmyolo",
   "language": "python",
   "name": "python3"
  },
  "language_info": {
   "codemirror_mode": {
    "name": "ipython",
    "version": 3
   },
   "file_extension": ".py",
   "mimetype": "text/x-python",
   "name": "python",
   "nbconvert_exporter": "python",
   "pygments_lexer": "ipython3",
   "version": "3.8.20"
  }
 },
 "nbformat": 4,
 "nbformat_minor": 5
}
