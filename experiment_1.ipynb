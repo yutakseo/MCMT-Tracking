{
 "cells": [
  {
   "cell_type": "code",
   "execution_count": null,
   "id": "64c8e87d",
   "metadata": {},
   "outputs": [],
   "source": [
    "from __Detection.detection_api import DetectionAPI\n",
    "from __Tracking.tracking_api import TrackerAPI\n",
    "from homo_graphy import PlanProjector\n",
    "import cv2"
   ]
  },
  {
   "cell_type": "code",
   "execution_count": null,
   "id": "7d9a575f",
   "metadata": {},
   "outputs": [],
   "source": [
    "class Args:\n",
    "    track_thresh = 0.5\n",
    "    match_thresh = 0.5\n",
    "    track_buffer = 60\n",
    "    mot20 = False\n",
    "args = Args()"
   ]
  },
  {
   "cell_type": "code",
   "execution_count": null,
   "id": "6846763a",
   "metadata": {},
   "outputs": [],
   "source": [
    "detector = DetectionAPI()\n",
    "tracker = TrackerAPI(args=args, detector=detector)"
   ]
  },
  {
   "cell_type": "code",
   "execution_count": null,
   "id": "dc95921b",
   "metadata": {},
   "outputs": [],
   "source": [
    "# 1) 도면 + (선택) H 로드\n",
    "plan_path = \"/workspace/assets/25082_homograph_coordinate-plane.jpg\"\n",
    "plan_pts  = [\n",
    "            (3588, 412),    #point1\n",
    "            (3588, 1036),   #point2\n",
    "            (3588, 1657),   #point3\n",
    "            (2225, 412),    #point4\n",
    "            (2225, 1036),   #point5\n",
    "            (2225, 1657),   #point6\n",
    "            (861, 412),     #point7\n",
    "            (861, 1036),    #point8\n",
    "            (861, 1657),    #point9\n",
    "             ]"
   ]
  },
  {
   "cell_type": "markdown",
   "id": "fa3dca26",
   "metadata": {},
   "source": [
    "### Cam#1"
   ]
  },
  {
   "cell_type": "code",
   "execution_count": null,
   "id": "2f307b4c",
   "metadata": {},
   "outputs": [],
   "source": [
    "cam1_tracklets = tracker.trackingVideo(\n",
    "    video_path=\"/workspace/datasets/homography_experiment/10-min_chunk/1030-1040/2025-08-27_10_30_00_cam#1_part_000.mp4\",\n",
    "    save_path=\"/workspace/results/tracking_result1.mp4\",\n",
    "    trail_len=100\n",
    ")\n",
    "\n",
    "# 2) 대응점으로 H 추정 (리스트 안에 '튜플' 형태) --> 예시 나중에 바꿔야함\n",
    "projector1 = PlanProjector(plan_path, trail_len=60)\n",
    "cam1_pts = [\n",
    "    (1390, 521),  #point1\n",
    "    (1618, 552),  #point2\n",
    "    (1784, 578),  #point3\n",
    "    (1112, 564),  #point4\n",
    "    (1434,620),   #point5\n",
    "    (1709,668),   #point6\n",
    "    (481,651),    #point7\n",
    "    (852,809),    #point8\n",
    "    (1393,1007)   #point9\n",
    "    ]\n",
    "H, mask = projector1.fit_homography(cam1_pts, plan_pts, ransac_thresh=3.0)\n",
    "\n",
    "# 4-1) 예시, 한 프레임만 투영(10번 프레임) & 저장\n",
    "projected, canvas = projector1.projection(cam1_tracklets[10], mode=\"bottom-center\", draw=True)\n",
    "cv2.imwrite(\"/workspace/results/plan_proj_frame1.jpg\", canvas)\n",
    "# 4-2) 전체 프레임 미니맵 비디오 저장\n",
    "projector1.save_video(cam1_tracklets, \"/workspace/results/plan_projection1.mp4\", fps=30, mode=\"bottom-center\")"
   ]
  },
  {
   "cell_type": "markdown",
   "id": "3e523fc4",
   "metadata": {},
   "source": [
    "### Cam#2"
   ]
  },
  {
   "cell_type": "code",
   "execution_count": null,
   "id": "f149497a",
   "metadata": {},
   "outputs": [],
   "source": [
    "cam2_tracklets = tracker.trackingVideo(\n",
    "    video_path=\"/workspace/datasets/homography_experiment/10-min_chunk/1030-1040/2025-08-27_10_30_00_cam#2_part_000.mp4\",\n",
    "    save_path=\"/workspace/results/tracking_result2.mp4\",\n",
    "    trail_len=100\n",
    ")\n",
    "\n",
    "# 2) 대응점으로 H 추정 (리스트 안에 '튜플' 형태) --> 예시 나중에 바꿔야함\n",
    "projector2 = PlanProjector(plan_path, trail_len=60)\n",
    "cam3_pts = [\n",
    "    (1020,1027), #point1\n",
    "    (476,898),   #point2\n",
    "    (294,826),   #point3\n",
    "    (1348,790),  #point4\n",
    "    (1017,772),  #point5\n",
    "    (813,753),   #point6\n",
    "    (1437,716),  #point7\n",
    "    (1213,713),  #point8\n",
    "    (1058,707)   #point9\n",
    "    ]\n",
    "H, mask = projector2.fit_homography(cam3_pts, plan_pts, ransac_thresh=3.0)\n",
    "\n",
    "# 4-1) 예시, 한 프레임만 투영(10번 프레임) & 저장\n",
    "projected, canvas = projector2.projection(cam2_tracklets[10], mode=\"bottom-center\", draw=True)\n",
    "cv2.imwrite(\"/workspace/results/plan_proj_frame2.jpg\", canvas)\n",
    "# 4-2) 전체 프레임 미니맵 비디오 저장\n",
    "projector2.save_video(cam2_tracklets, \"/workspace/results/plan_projection2.mp4\", fps=30, mode=\"bottom-center\")\n"
   ]
  },
  {
   "cell_type": "markdown",
   "id": "b707bfb4",
   "metadata": {},
   "source": [
    " ### Cam#3"
   ]
  },
  {
   "cell_type": "code",
   "execution_count": null,
   "id": "0f3bb9b6",
   "metadata": {},
   "outputs": [],
   "source": [
    "cam3_tracklets = tracker.trackingVideo(\n",
    "    video_path=\"/workspace/datasets/homography_experiment/10-min_chunk/1030-1040/2025-08-27_10_30_00_cam#3_part_000.mp4\",\n",
    "    save_path=\"/workspace/results/tracking_result3.mp4\",\n",
    "    trail_len=100\n",
    ")\n",
    "\n",
    "# 2) 대응점으로 H 추정 (리스트 안에 '튜플' 형태) --> 예시 나중에 바꿔야함\n",
    "projector3 = PlanProjector(plan_path, trail_len=60)\n",
    "cam3_pts = [\n",
    "    (140,309),   #point1\n",
    "    (291,315),   #point2\n",
    "    (398,320),   #point3\n",
    "    (213,376),   #point4\n",
    "    (440,377),   #point5\n",
    "    (588,378),   #point6\n",
    "    (467,596),   #point7\n",
    "    (826,521),   #point8\n",
    "    (965,484)    #point9\n",
    "]\n",
    "H, mask = projector3.fit_homography(cam3_pts, plan_pts, ransac_thresh=3.0)\n",
    "\n",
    "# 4-1) 예시, 한 프레임만 투영(10번 프레임) & 저장\n",
    "projected, canvas = projector3.projection(cam3_tracklets[10], mode=\"bottom-center\", draw=True)\n",
    "cv2.imwrite(\"/workspace/results/plan_proj_frame3.jpg\", canvas)\n",
    "# 4-2) 전체 프레임 미니맵 비디오 저장\n",
    "projector3.save_video(cam3_tracklets, \"/workspace/results/plan_projection3.mp4\", fps=30, mode=\"bottom-center\")\n"
   ]
  }
 ],
 "metadata": {
  "kernelspec": {
   "display_name": "mmyolo",
   "language": "python",
   "name": "python3"
  },
  "language_info": {
   "codemirror_mode": {
    "name": "ipython",
    "version": 3
   },
   "file_extension": ".py",
   "mimetype": "text/x-python",
   "name": "python",
   "nbconvert_exporter": "python",
   "pygments_lexer": "ipython3",
   "version": "3.8.20"
  }
 },
 "nbformat": 4,
 "nbformat_minor": 5
}
