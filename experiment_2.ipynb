{
 "cells": [
  {
   "cell_type": "code",
   "execution_count": 1,
   "id": "64c8e87d",
   "metadata": {},
   "outputs": [],
   "source": [
    "from __Detection.detection_api import DetectionAPI\n",
    "from __Tracking.tracking_api import TrackerAPI\n",
    "from homo_graphy import PlanProjector\n",
    "import cv2"
   ]
  },
  {
   "cell_type": "code",
   "execution_count": null,
   "id": "7d9a575f",
   "metadata": {},
   "outputs": [],
   "source": [
    "class Args:\n",
    "    track_thresh = 0.5\n",
    "    match_thresh = 0.8\n",
    "    track_buffer = 30\n",
    "    mot20 = False\n",
    "    cpu_workers = 16   # 듀얼 CPU 적극 활용\n",
    "    chunk_sec   = 20.0 # 15~30초 권장\n",
    "    \n",
    "args = Args()"
   ]
  },
  {
   "cell_type": "code",
   "execution_count": 3,
   "id": "6846763a",
   "metadata": {},
   "outputs": [
    {
     "name": "stdout",
     "output_type": "stream",
     "text": [
      "Loads checkpoint by local backend from path: /workspace/PretrainedModel_by_JeonYT/vehicle/epoch_54.pth\n",
      "Loads checkpoint by local backend from path: /workspace/PretrainedModel_by_JeonYT/worker/epoch_100.pth\n"
     ]
    },
    {
     "ename": "TypeError",
     "evalue": "can only concatenate tuple (not \"float\") to tuple",
     "output_type": "error",
     "traceback": [
      "\u001b[0;31m---------------------------------------------------------------------------\u001b[0m",
      "\u001b[0;31mTypeError\u001b[0m                                 Traceback (most recent call last)",
      "\u001b[0;32m<ipython-input-3-6be50b16d527>\u001b[0m in \u001b[0;36m<cell line: 2>\u001b[0;34m()\u001b[0m\n\u001b[1;32m      1\u001b[0m \u001b[0mdetector\u001b[0m \u001b[0;34m=\u001b[0m \u001b[0mDetectionAPI\u001b[0m\u001b[0;34m(\u001b[0m\u001b[0;34m)\u001b[0m\u001b[0;34m\u001b[0m\u001b[0;34m\u001b[0m\u001b[0m\n\u001b[0;32m----> 2\u001b[0;31m \u001b[0mtracker\u001b[0m \u001b[0;34m=\u001b[0m \u001b[0mTrackerAPI\u001b[0m\u001b[0;34m(\u001b[0m\u001b[0margs\u001b[0m\u001b[0;34m=\u001b[0m\u001b[0margs\u001b[0m\u001b[0;34m,\u001b[0m \u001b[0mdetector\u001b[0m\u001b[0;34m=\u001b[0m\u001b[0mdetector\u001b[0m\u001b[0;34m)\u001b[0m\u001b[0;34m\u001b[0m\u001b[0;34m\u001b[0m\u001b[0m\n\u001b[0m",
      "\u001b[0;32m/workspace/__Tracking/tracking_api.py\u001b[0m in \u001b[0;36m__init__\u001b[0;34m(self, args, detector)\u001b[0m\n\u001b[1;32m     82\u001b[0m         \u001b[0mbt_args\u001b[0m\u001b[0;34m.\u001b[0m\u001b[0mtrack_buffer\u001b[0m \u001b[0;34m=\u001b[0m \u001b[0margs\u001b[0m\u001b[0;34m.\u001b[0m\u001b[0mbuf_size\u001b[0m\u001b[0;34m\u001b[0m\u001b[0;34m\u001b[0m\u001b[0m\n\u001b[1;32m     83\u001b[0m         \u001b[0mbt_args\u001b[0m\u001b[0;34m.\u001b[0m\u001b[0mmot20\u001b[0m        \u001b[0;34m=\u001b[0m \u001b[0margs\u001b[0m\u001b[0;34m.\u001b[0m\u001b[0mmot20\u001b[0m\u001b[0;34m\u001b[0m\u001b[0;34m\u001b[0m\u001b[0m\n\u001b[0;32m---> 84\u001b[0;31m         \u001b[0mself\u001b[0m\u001b[0;34m.\u001b[0m\u001b[0mtracker\u001b[0m \u001b[0;34m=\u001b[0m \u001b[0mBYTETracker\u001b[0m\u001b[0;34m(\u001b[0m\u001b[0mbt_args\u001b[0m\u001b[0;34m)\u001b[0m\u001b[0;34m\u001b[0m\u001b[0;34m\u001b[0m\u001b[0m\n\u001b[0m\u001b[1;32m     85\u001b[0m \u001b[0;34m\u001b[0m\u001b[0m\n\u001b[1;32m     86\u001b[0m     \u001b[0;31m# -------------------------------\u001b[0m\u001b[0;34m\u001b[0m\u001b[0;34m\u001b[0m\u001b[0;34m\u001b[0m\u001b[0m\n",
      "\u001b[0;32m/workspace/__Tracking/ByteTrack/yolox/tracker/byte_tracker.py\u001b[0m in \u001b[0;36m__init__\u001b[0;34m(self, args, frame_rate)\u001b[0m\n\u001b[1;32m    154\u001b[0m         \u001b[0mself\u001b[0m\u001b[0;34m.\u001b[0m\u001b[0margs\u001b[0m \u001b[0;34m=\u001b[0m \u001b[0margs\u001b[0m\u001b[0;34m\u001b[0m\u001b[0;34m\u001b[0m\u001b[0m\n\u001b[1;32m    155\u001b[0m         \u001b[0;31m#self.det_thresh = args.track_thresh\u001b[0m\u001b[0;34m\u001b[0m\u001b[0;34m\u001b[0m\u001b[0;34m\u001b[0m\u001b[0m\n\u001b[0;32m--> 156\u001b[0;31m         \u001b[0mself\u001b[0m\u001b[0;34m.\u001b[0m\u001b[0mdet_thresh\u001b[0m \u001b[0;34m=\u001b[0m \u001b[0margs\u001b[0m\u001b[0;34m.\u001b[0m\u001b[0mtrack_thresh\u001b[0m \u001b[0;34m+\u001b[0m \u001b[0;36m0.1\u001b[0m\u001b[0;34m\u001b[0m\u001b[0;34m\u001b[0m\u001b[0m\n\u001b[0m\u001b[1;32m    157\u001b[0m         \u001b[0mself\u001b[0m\u001b[0;34m.\u001b[0m\u001b[0mbuffer_size\u001b[0m \u001b[0;34m=\u001b[0m \u001b[0mint\u001b[0m\u001b[0;34m(\u001b[0m\u001b[0mframe_rate\u001b[0m \u001b[0;34m/\u001b[0m \u001b[0;36m30.0\u001b[0m \u001b[0;34m*\u001b[0m \u001b[0margs\u001b[0m\u001b[0;34m.\u001b[0m\u001b[0mtrack_buffer\u001b[0m\u001b[0;34m)\u001b[0m\u001b[0;34m\u001b[0m\u001b[0;34m\u001b[0m\u001b[0m\n\u001b[1;32m    158\u001b[0m         \u001b[0mself\u001b[0m\u001b[0;34m.\u001b[0m\u001b[0mmax_time_lost\u001b[0m \u001b[0;34m=\u001b[0m \u001b[0mself\u001b[0m\u001b[0;34m.\u001b[0m\u001b[0mbuffer_size\u001b[0m\u001b[0;34m\u001b[0m\u001b[0;34m\u001b[0m\u001b[0m\n",
      "\u001b[0;31mTypeError\u001b[0m: can only concatenate tuple (not \"float\") to tuple"
     ]
    }
   ],
   "source": [
    "detector = DetectionAPI()\n",
    "tracker = TrackerAPI(args=args, detector=detector)"
   ]
  },
  {
   "cell_type": "code",
   "execution_count": null,
   "id": "dc95921b",
   "metadata": {},
   "outputs": [],
   "source": [
    "# 1) 도면 + (선택) H 로드\n",
    "plan_path = \"/workspace/assets/25082_homograph_coordinate-plane.jpg\"\n",
    "plan_pts  = [\n",
    "            (3588, 412),    #point1\n",
    "            (3588, 1036),   #point2\n",
    "            (3588, 1657),   #point3\n",
    "            (2225, 412),    #point4\n",
    "            (2225, 1036),   #point5\n",
    "            (2225, 1657),   #point6\n",
    "            (861, 412),     #point7\n",
    "            (861, 1036),    #point8\n",
    "            (861, 1657),    #point9\n",
    "             ]"
   ]
  },
  {
   "cell_type": "markdown",
   "id": "fa3dca26",
   "metadata": {},
   "source": [
    "### Cam#1"
   ]
  },
  {
   "cell_type": "code",
   "execution_count": null,
   "id": "0956d66e",
   "metadata": {},
   "outputs": [],
   "source": [
    "cam1_pts = [\n",
    "    (1390, 521),  #point1\n",
    "    (1618, 552),  #point2\n",
    "    (1784, 578),  #point3\n",
    "    (1112, 564),  #point4\n",
    "    (1434, 620),  #point5\n",
    "    (1709, 668),  #point6\n",
    "    ( 481, 651),  #point7\n",
    "    ( 852, 809),  #point8\n",
    "    (1393,1007)   #point9\n",
    "    ]"
   ]
  },
  {
   "cell_type": "code",
   "execution_count": null,
   "id": "2f307b4c",
   "metadata": {},
   "outputs": [
    {
     "name": "stderr",
     "output_type": "stream",
     "text": [
      "/opt/conda/envs/mmyolo/lib/python3.8/site-packages/torch/functional.py:504: UserWarning: torch.meshgrid: in an upcoming release, it will be required to pass the indexing argument. (Triggered internally at ../aten/src/ATen/native/TensorShape.cpp:3483.)\n",
      "  return _VF.meshgrid(tensors, **kwargs)  # type: ignore[attr-defined]\n"
     ]
    },
    {
     "name": "stdout",
     "output_type": "stream",
     "text": [
      "결과 영상 저장 완료: /workspace/results/tracking_result1.mp4\n"
     ]
    }
   ],
   "source": [
    "#22분 걸렸음 얼마나 개선되는지 파악해보자\n",
    "cam1_tracklets = tracker.trackingVideo(\n",
    "    video_path=\"/workspace/datasets/homography_experiment/10-min_chunk/1030-1040/2025-08-27_10_30_00_cam#1_part_000.mp4\",\n",
    "    save_path=\"/workspace/results/tracking_result1.mp4\",\n",
    "    trail_len=100\n",
    ")"
   ]
  },
  {
   "cell_type": "code",
   "execution_count": null,
   "id": "3da7b643",
   "metadata": {},
   "outputs": [
    {
     "ename": "KeyboardInterrupt",
     "evalue": "",
     "output_type": "error",
     "traceback": [
      "\u001b[0;31m---------------------------------------------------------------------------\u001b[0m",
      "\u001b[0;31mKeyboardInterrupt\u001b[0m                         Traceback (most recent call last)",
      "\u001b[0;32m<ipython-input-7-39642e82215f>\u001b[0m in \u001b[0;36m<cell line: 7>\u001b[0;34m()\u001b[0m\n\u001b[1;32m      5\u001b[0m \u001b[0;34m\u001b[0m\u001b[0m\n\u001b[1;32m      6\u001b[0m \u001b[0;31m# 4) 전체 프레임 미니맵 비디오 저장\u001b[0m\u001b[0;34m\u001b[0m\u001b[0;34m\u001b[0m\u001b[0;34m\u001b[0m\u001b[0m\n\u001b[0;32m----> 7\u001b[0;31m projector1.save_video(\n\u001b[0m\u001b[1;32m      8\u001b[0m     \u001b[0mframes\u001b[0m\u001b[0;34m=\u001b[0m\u001b[0mcam1_tracklets\u001b[0m\u001b[0;34m,\u001b[0m\u001b[0;34m\u001b[0m\u001b[0;34m\u001b[0m\u001b[0m\n\u001b[1;32m      9\u001b[0m     \u001b[0mout_path\u001b[0m\u001b[0;34m=\u001b[0m\u001b[0;34m\"/workspace/results/plan_projection1.mp4\"\u001b[0m\u001b[0;34m,\u001b[0m\u001b[0;34m\u001b[0m\u001b[0;34m\u001b[0m\u001b[0m\n",
      "\u001b[0;32m/workspace/homo_graphy.py\u001b[0m in \u001b[0;36msave_video\u001b[0;34m(self, frames, out_path, fps, mode, image_pts, plan_pts, ransac_thresh, codec, out_size)\u001b[0m\n\u001b[1;32m    379\u001b[0m             \u001b[0;32mif\u001b[0m \u001b[0mcanvas\u001b[0m \u001b[0;32mis\u001b[0m \u001b[0;32mNone\u001b[0m\u001b[0;34m:\u001b[0m\u001b[0;34m\u001b[0m\u001b[0;34m\u001b[0m\u001b[0m\n\u001b[1;32m    380\u001b[0m                 \u001b[0;32mcontinue\u001b[0m\u001b[0;34m\u001b[0m\u001b[0;34m\u001b[0m\u001b[0m\n\u001b[0;32m--> 381\u001b[0;31m             \u001b[0mvw\u001b[0m\u001b[0;34m.\u001b[0m\u001b[0mwrite\u001b[0m\u001b[0;34m(\u001b[0m\u001b[0m_prepare_frame\u001b[0m\u001b[0;34m(\u001b[0m\u001b[0mcanvas\u001b[0m\u001b[0;34m)\u001b[0m\u001b[0;34m)\u001b[0m\u001b[0;34m\u001b[0m\u001b[0;34m\u001b[0m\u001b[0m\n\u001b[0m\u001b[1;32m    382\u001b[0m             \u001b[0mwrote\u001b[0m \u001b[0;34m+=\u001b[0m \u001b[0;36m1\u001b[0m\u001b[0;34m\u001b[0m\u001b[0;34m\u001b[0m\u001b[0m\n\u001b[1;32m    383\u001b[0m \u001b[0;34m\u001b[0m\u001b[0m\n",
      "\u001b[0;32m/workspace/homo_graphy.py\u001b[0m in \u001b[0;36m_prepare_frame\u001b[0;34m(bgr)\u001b[0m\n\u001b[1;32m    366\u001b[0m                 \u001b[0mfr\u001b[0m \u001b[0;34m=\u001b[0m \u001b[0mfr\u001b[0m\u001b[0;34m[\u001b[0m\u001b[0;34m:\u001b[0m\u001b[0;34m,\u001b[0m \u001b[0;34m:\u001b[0m\u001b[0;34m,\u001b[0m \u001b[0;34m:\u001b[0m\u001b[0;36m3\u001b[0m\u001b[0;34m]\u001b[0m\u001b[0;34m\u001b[0m\u001b[0;34m\u001b[0m\u001b[0m\n\u001b[1;32m    367\u001b[0m             \u001b[0;32mif\u001b[0m \u001b[0;34m(\u001b[0m\u001b[0mfr\u001b[0m\u001b[0;34m.\u001b[0m\u001b[0mshape\u001b[0m\u001b[0;34m[\u001b[0m\u001b[0;36m1\u001b[0m\u001b[0;34m]\u001b[0m\u001b[0;34m,\u001b[0m \u001b[0mfr\u001b[0m\u001b[0;34m.\u001b[0m\u001b[0mshape\u001b[0m\u001b[0;34m[\u001b[0m\u001b[0;36m0\u001b[0m\u001b[0;34m]\u001b[0m\u001b[0;34m)\u001b[0m \u001b[0;34m!=\u001b[0m \u001b[0;34m(\u001b[0m\u001b[0mout_w\u001b[0m\u001b[0;34m,\u001b[0m \u001b[0mout_h\u001b[0m\u001b[0;34m)\u001b[0m\u001b[0;34m:\u001b[0m\u001b[0;34m\u001b[0m\u001b[0;34m\u001b[0m\u001b[0m\n\u001b[0;32m--> 368\u001b[0;31m                 \u001b[0mfr\u001b[0m \u001b[0;34m=\u001b[0m \u001b[0mcv2\u001b[0m\u001b[0;34m.\u001b[0m\u001b[0mresize\u001b[0m\u001b[0;34m(\u001b[0m\u001b[0mfr\u001b[0m\u001b[0;34m,\u001b[0m \u001b[0;34m(\u001b[0m\u001b[0mout_w\u001b[0m\u001b[0;34m,\u001b[0m \u001b[0mout_h\u001b[0m\u001b[0;34m)\u001b[0m\u001b[0;34m,\u001b[0m \u001b[0minterpolation\u001b[0m\u001b[0;34m=\u001b[0m\u001b[0mcv2\u001b[0m\u001b[0;34m.\u001b[0m\u001b[0mINTER_AREA\u001b[0m\u001b[0;34m)\u001b[0m\u001b[0;34m\u001b[0m\u001b[0;34m\u001b[0m\u001b[0m\n\u001b[0m\u001b[1;32m    369\u001b[0m             \u001b[0;32mif\u001b[0m \u001b[0mfr\u001b[0m\u001b[0;34m.\u001b[0m\u001b[0mdtype\u001b[0m \u001b[0;34m!=\u001b[0m \u001b[0mnp\u001b[0m\u001b[0;34m.\u001b[0m\u001b[0muint8\u001b[0m\u001b[0;34m:\u001b[0m\u001b[0;34m\u001b[0m\u001b[0;34m\u001b[0m\u001b[0m\n\u001b[1;32m    370\u001b[0m                 \u001b[0mfr\u001b[0m \u001b[0;34m=\u001b[0m \u001b[0mfr\u001b[0m\u001b[0;34m.\u001b[0m\u001b[0mastype\u001b[0m\u001b[0;34m(\u001b[0m\u001b[0mnp\u001b[0m\u001b[0;34m.\u001b[0m\u001b[0muint8\u001b[0m\u001b[0;34m,\u001b[0m \u001b[0mcopy\u001b[0m\u001b[0;34m=\u001b[0m\u001b[0;32mFalse\u001b[0m\u001b[0;34m)\u001b[0m\u001b[0;34m\u001b[0m\u001b[0;34m\u001b[0m\u001b[0m\n",
      "\u001b[0;31mKeyboardInterrupt\u001b[0m: "
     ]
    }
   ],
   "source": [
    "# 2) 대응점으로 H 추정 (리스트 안에 '튜플' 형태) --> 예시 나중에 바꿔야함\n",
    "projector1 = PlanProjector(plan_path, trail_len=60, trail_ttl=30, line_thickness=4, point_radius=10)\n",
    "H, mask = projector1.fit_homography(cam1_pts, plan_pts, ransac_thresh=5.0)\n",
    "\n",
    "\n",
    "# 4) 전체 프레임 미니맵 비디오 저장\n",
    "projector1.save_video(\n",
    "    frames=cam1_tracklets, \n",
    "    out_path=\"/workspace/results/plan_projection1.mp4\", \n",
    "    fps=30,\n",
    "    mode=\"bottom-center\",\n",
    "    codec=\"MJPG\",\n",
    "    out_size=(1920,1080)\n",
    "    )"
   ]
  },
  {
   "cell_type": "markdown",
   "id": "3e523fc4",
   "metadata": {},
   "source": [
    "### Cam#2"
   ]
  },
  {
   "cell_type": "code",
   "execution_count": null,
   "id": "8e21896c",
   "metadata": {},
   "outputs": [],
   "source": [
    "cam2_pts = [\n",
    "    (1020,1027),  #point1\n",
    "    ( 476, 898),  #point2\n",
    "    ( 294, 826),  #point3\n",
    "    (1348, 790),  #point4\n",
    "    (1017, 772),  #point5\n",
    "    ( 813, 753),  #point6\n",
    "    (1437, 716),  #point7\n",
    "    (1213, 713),  #point8\n",
    "    (1058, 707)   #point9\n",
    "    ]"
   ]
  },
  {
   "cell_type": "code",
   "execution_count": null,
   "id": "6f91c96d",
   "metadata": {},
   "outputs": [],
   "source": [
    "cam2_tracklets = tracker.trackingVideo(\n",
    "    video_path=\"/workspace/datasets/homography_experiment/10-min_chunk/1030-1040/2025-08-27_10_30_00_cam#2_part_000.mp4\",\n",
    "    save_path=\"/workspace/results/tracking_result2.mp4\",\n",
    "    trail_len=100\n",
    ")"
   ]
  },
  {
   "cell_type": "code",
   "execution_count": null,
   "id": "8d66a65c",
   "metadata": {},
   "outputs": [],
   "source": [
    "# 2) 대응점으로 H 추정 (리스트 안에 '튜플' 형태) --> 예시 나중에 바꿔야함\n",
    "projector2 = PlanProjector(plan_path, trail_len=60, trail_ttl=30, line_thickness=4, point_radius=10)\n",
    "H, mask = projector2.fit_homography(cam2_pts, plan_pts, ransac_thresh=5.0)\n",
    "\n",
    "# 4) 전체 프레임 미니맵 비디오 저장\n",
    "projector2.save_video(\n",
    "    frames=cam2_tracklets, \n",
    "    out_path=\"/workspace/results/plan_projection2.mp4\", \n",
    "    fps=30, \n",
    "    mode=\"bottom-center\",\n",
    "    codec=\"MJPG\",\n",
    "    out_size=(1920,1080)\n",
    "    )"
   ]
  },
  {
   "cell_type": "markdown",
   "id": "b707bfb4",
   "metadata": {},
   "source": [
    " ### Cam#3"
   ]
  },
  {
   "cell_type": "code",
   "execution_count": null,
   "id": "99aeaf0d",
   "metadata": {},
   "outputs": [],
   "source": [
    "cam3_pts = [\n",
    "    ( 140, 309),   #point1\n",
    "    ( 291, 315),   #point2\n",
    "    ( 398, 320),   #point3\n",
    "    ( 213, 376),   #point4\n",
    "    ( 440, 377),   #point5\n",
    "    ( 588, 378),   #point6\n",
    "    ( 467, 596),   #point7\n",
    "    ( 826, 521),   #point8\n",
    "    ( 965, 484)    #point9\n",
    "    ]"
   ]
  },
  {
   "cell_type": "code",
   "execution_count": null,
   "id": "26e67a0f",
   "metadata": {},
   "outputs": [],
   "source": [
    "cam3_tracklets = tracker.trackingVideo(\n",
    "    video_path=\"/workspace/datasets/homography_experiment/10-min_chunk/1030-1040/2025-08-27_10_30_00_cam#3_part_000.mp4\",\n",
    "    save_path=\"/workspace/results/tracking_result3.mp4\",\n",
    "    trail_len=100\n",
    ")"
   ]
  },
  {
   "cell_type": "code",
   "execution_count": null,
   "id": "7bdf6939",
   "metadata": {},
   "outputs": [],
   "source": [
    "# 2) 대응점으로 H 추정 (리스트 안에 '튜플' 형태) --> 예시 나중에 바꿔야함\n",
    "projector3 = PlanProjector(plan_path, trail_len=60, trail_ttl=30, line_thickness=4, point_radius=10)\n",
    "H, mask = projector3.fit_homography(cam3_pts, plan_pts, ransac_thresh=5.0)\n",
    "\n",
    "\n",
    "# 4) 전체 프레임 미니맵 비디오 저장\n",
    "projector3.save_video(\n",
    "    frames=cam3_tracklets, \n",
    "    out_path=\"/workspace/results/plan_projection3.mp4\", \n",
    "    fps=30, \n",
    "    mode=\"bottom-center\",\n",
    "    codec=\"MJPG\",\n",
    "    out_size=(1920,1080)\n",
    "    )"
   ]
  }
 ],
 "metadata": {
  "kernelspec": {
   "display_name": "mmyolo",
   "language": "python",
   "name": "python3"
  },
  "language_info": {
   "codemirror_mode": {
    "name": "ipython",
    "version": 3
   },
   "file_extension": ".py",
   "mimetype": "text/x-python",
   "name": "python",
   "nbconvert_exporter": "python",
   "pygments_lexer": "ipython3",
   "version": "3.8.20"
  }
 },
 "nbformat": 4,
 "nbformat_minor": 5
}
